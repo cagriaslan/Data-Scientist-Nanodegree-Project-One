{
 "cells": [
  {
   "cell_type": "code",
   "execution_count": 1,
   "outputs": [],
   "source": [
    "import numpy as np\n",
    "import pandas as pd\n",
    "import seaborn as sns\n",
    "import matplotlib.pyplot as plt\n",
    "from sklearn.linear_model import LinearRegression\n",
    "from sklearn.model_selection import train_test_split\n",
    "from sklearn.metrics import r2_score, mean_squared_error \n",
    "%matplotlib inline"
   ],
   "metadata": {
    "collapsed": false,
    "pycharm": {
     "name": "#%%\n"
    }
   }
  },
  {
   "cell_type": "code",
   "execution_count": null,
   "outputs": [],
   "source": [
    "# importing the data set and have a quick look\n",
    "df=pd.read_csv('survey_results_public.csv')\n",
    "df.head()"
   ],
   "metadata": {
    "collapsed": false,
    "pycharm": {
     "name": "#%%\n"
    }
   }
  },
  {
   "cell_type": "code",
   "execution_count": null,
   "outputs": [],
   "source": [
    "#importing the second cvs file which is helpful to know better each column of main cvs file\n",
    "schema=pd.read_csv('survey_results_schema.csv')\n",
    "schema.head()"
   ],
   "metadata": {
    "collapsed": false,
    "pycharm": {
     "name": "#%%\n"
    }
   }
  },
  {
   "cell_type": "code",
   "execution_count": null,
   "outputs": [],
   "source": [
    "df[\"CompTotal\"]"
   ],
   "metadata": {
    "collapsed": false,
    "pycharm": {
     "name": "#%%\n"
    }
   }
  },
  {
   "cell_type": "markdown",
   "source": [
    "The first thing that I am interested to know more about it is: how is education level of developers in each country. So, let's focus on \"EdLevel\" column in more details:"
   ],
   "metadata": {
    "collapsed": false
   }
  },
  {
   "cell_type": "code",
   "execution_count": null,
   "outputs": [],
   "source": [
    "# .3 percent null value in education level column which is fairly\n",
    "df['EdLevel'].isnull().sum()/df.shape[0]"
   ],
   "metadata": {
    "collapsed": false,
    "pycharm": {
     "name": "#%%\n"
    }
   }
  },
  {
   "cell_type": "code",
   "execution_count": null,
   "outputs": [],
   "source": [
    "df['EdLevel'].value_counts()/df.shape[0]"
   ],
   "metadata": {
    "collapsed": false,
    "pycharm": {
     "name": "#%%\n"
    }
   }
  },
  {
   "cell_type": "code",
   "execution_count": null,
   "outputs": [],
   "source": [
    "pie, ax = plt.subplots(figsize=[10,6])\n",
    "data=df['EdLevel'].value_counts()\n",
    "labels = data.keys()\n",
    "plt.pie(x=data, autopct=\"%.1f%%\", labels=labels, pctdistance=0.5)\n",
    "plt.title(\"EdLevel_ALL Participants\", fontsize=14);\n",
    "plt.show()"
   ],
   "metadata": {
    "collapsed": false,
    "pycharm": {
     "name": "#%%\n"
    }
   }
  },
  {
   "cell_type": "markdown",
   "source": [
    "More than 40% of participants in survey hold Bachelor's Degree, which is aggregate number for all participants from all countries. Specifically, I am interested to find this statistics for USA and Canada In the first part of my first question: *I am interested to find Education Level for USA and Canada*.\n",
    "\n",
    "In the second part: If the \"PhD\" group have some specific advantage in some attributes in comparison to the others group ?\n",
    "\n",
    "So: here is summary of question 1:"
   ],
   "metadata": {
    "collapsed": false
   }
  },
  {
   "cell_type": "raw",
   "source": [],
   "metadata": {
    "collapsed": false
   }
  },
  {
   "cell_type": "markdown",
   "source": [
    "### Question 1: What is Education Level for participants from Canada and USA specifically? If there are specific parameter which help individuals to be full time employed?"
   ],
   "metadata": {
    "collapsed": false
   }
  },
  {
   "cell_type": "code",
   "execution_count": null,
   "outputs": [],
   "source": [
    "df_Canada=df[df['Country']=='Canada']"
   ],
   "metadata": {
    "collapsed": false,
    "pycharm": {
     "name": "#%%\n"
    }
   }
  },
  {
   "cell_type": "code",
   "execution_count": null,
   "outputs": [],
   "source": [
    "df_Canada['EdLevel'].value_counts()/df_Canada.shape[0]"
   ],
   "metadata": {
    "collapsed": false,
    "pycharm": {
     "name": "#%%\n"
    }
   }
  },
  {
   "cell_type": "code",
   "execution_count": null,
   "outputs": [],
   "source": [
    "df['Country'].value_counts()"
   ],
   "metadata": {
    "collapsed": false,
    "pycharm": {
     "name": "#%%\n"
    }
   }
  },
  {
   "cell_type": "code",
   "execution_count": null,
   "outputs": [],
   "source": [
    "df_USA=df[df['Country']=='United States of America']"
   ],
   "metadata": {
    "collapsed": false,
    "pycharm": {
     "name": "#%%\n"
    }
   }
  },
  {
   "cell_type": "code",
   "execution_count": null,
   "outputs": [],
   "source": [
    "df_USA['EdLevel'].value_counts()/df_USA.shape[0]"
   ],
   "metadata": {
    "collapsed": false,
    "pycharm": {
     "name": "#%%\n"
    }
   }
  },
  {
   "cell_type": "code",
   "execution_count": null,
   "outputs": [],
   "source": [
    "plt.figure(0);\n",
    "pie, ax = plt.subplots(figsize=[10,6]);\n",
    "data_Canada=df_Canada['EdLevel'].value_counts();\n",
    "labels = data_Canada.keys();\n",
    "plt.pie(x=data_Canada, autopct=\"%.1f%%\", labels=labels, pctdistance=0.5);\n",
    "plt.title(\"EdLevel_Canada Participants\", fontsize=14);\n",
    "\n",
    "plt.figure(1);\n",
    "pie, ax = plt.subplots(figsize=[10,6]);\n",
    "data_USA=df_USA['EdLevel'].value_counts();\n",
    "labels = data_USA.keys();\n",
    "plt.pie(x=data_USA, autopct=\"%.1f%%\", labels=labels, pctdistance=0.5);\n",
    "plt.title(\"EdLevel_USA Participants\", fontsize=14);\n",
    "\n",
    "plt.show();"
   ],
   "metadata": {
    "collapsed": false,
    "pycharm": {
     "name": "#%%\n"
    }
   }
  },
  {
   "cell_type": "markdown",
   "source": [
    "Now, I am interested to see if PhD degree could have impact on better job market situation in USA in comparison to Canada and globally? "
   ],
   "metadata": {
    "collapsed": false
   }
  },
  {
   "cell_type": "code",
   "execution_count": null,
   "outputs": [],
   "source": [
    "#For all participants:\n",
    "df[df['EdLevel']=='Other doctoral degree (Ph.D., Ed.D., etc.)']['Employment'].value_counts()/df[df['EdLevel']=='Other doctoral degree (Ph.D., Ed.D., etc.)']['Employment'].shape[0]"
   ],
   "metadata": {
    "collapsed": false,
    "pycharm": {
     "name": "#%%\n"
    }
   }
  },
  {
   "cell_type": "code",
   "execution_count": null,
   "outputs": [],
   "source": [
    "#For Canada:\n",
    "df_Canada[df_Canada['EdLevel']=='Other doctoral degree (Ph.D., Ed.D., etc.)']['Employment'].value_counts()/df_Canada[df_Canada['EdLevel']=='Other doctoral degree (Ph.D., Ed.D., etc.)']['Employment'].shape[0]"
   ],
   "metadata": {
    "collapsed": false,
    "pycharm": {
     "name": "#%%\n"
    }
   }
  },
  {
   "cell_type": "code",
   "execution_count": null,
   "outputs": [],
   "source": [
    "#For Canada:\n",
    "df_USA[df_USA['EdLevel']=='Other doctoral degree (Ph.D., Ed.D., etc.)']['Employment'].value_counts()/df_USA[df_USA['EdLevel']=='Other doctoral degree (Ph.D., Ed.D., etc.)']['Employment'].shape[0]"
   ],
   "metadata": {
    "collapsed": false,
    "pycharm": {
     "name": "#%%\n"
    }
   }
  },
  {
   "cell_type": "code",
   "execution_count": null,
   "outputs": [],
   "source": [
    "education_count = df[df['EdLevel']=='Other doctoral degree (Ph.D., Ed.D., etc.)']['Employment'].value_counts()/df[df['EdLevel']=='Other doctoral degree (Ph.D., Ed.D., etc.)']['Employment'].shape[0]\n",
    "plt.figure(figsize=(10,5))\n",
    "sns_barplot=sns.barplot(education_count.index, education_count.values, alpha=0.8)\n",
    "plt.title(\"PhD holders's employment status (All Participants)\")\n",
    "plt.ylabel('Proportion', fontsize=12)\n",
    "plt.xlabel('Employment Status', fontsize=12)\n",
    "for item in sns_barplot.get_xticklabels():\n",
    "    item.set_rotation(90)\n",
    "plt.show()"
   ],
   "metadata": {
    "collapsed": false,
    "pycharm": {
     "name": "#%%\n"
    }
   }
  },
  {
   "cell_type": "code",
   "execution_count": null,
   "outputs": [],
   "source": [
    "education_count = df_Canada[df_Canada['EdLevel']=='Other doctoral degree (Ph.D., Ed.D., etc.)']['Employment'].value_counts()/df_Canada[df_Canada['EdLevel']=='Other doctoral degree (Ph.D., Ed.D., etc.)']['Employment'].shape[0]\n",
    "plt.figure(figsize=(10,5))\n",
    "sns_barplot=sns.barplot(education_count.index, education_count.values, alpha=0.8)\n",
    "plt.title(\"PhD holders's employment status (Canada)\")\n",
    "plt.ylabel('Proportion', fontsize=12)\n",
    "plt.xlabel('Employment Status', fontsize=12)\n",
    "for item in sns_barplot.get_xticklabels():\n",
    "    item.set_rotation(90)\n",
    "plt.show()"
   ],
   "metadata": {
    "collapsed": false,
    "pycharm": {
     "name": "#%%\n"
    }
   }
  },
  {
   "cell_type": "code",
   "execution_count": null,
   "outputs": [],
   "source": [
    "education_count = df_USA[df_USA['EdLevel']=='Other doctoral degree (Ph.D., Ed.D., etc.)']['Employment'].value_counts()/df_USA[df_USA['EdLevel']=='Other doctoral degree (Ph.D., Ed.D., etc.)']['Employment'].shape[0]\n",
    "plt.figure(figsize=(10,5))\n",
    "sns_barplot=sns.barplot(education_count.index, education_count.values, alpha=0.8)\n",
    "plt.title(\"PhD holders's employment status (Canada)\")\n",
    "plt.ylabel('Proportion', fontsize=12)\n",
    "plt.xlabel('Employment Status', fontsize=12)\n",
    "for item in sns_barplot.get_xticklabels():\n",
    "    item.set_rotation(90)\n",
    "plt.show()"
   ],
   "metadata": {
    "collapsed": false,
    "pycharm": {
     "name": "#%%\n"
    }
   }
  },
  {
   "cell_type": "markdown",
   "source": [
    "It looks like PhD has a big impact on employment rate since very big portion of PhD holders are employed full-time."
   ],
   "metadata": {
    "collapsed": false
   }
  },
  {
   "cell_type": "markdown",
   "source": [
    "### Question 2: How People are paid regarding the years of work? \n",
    "\n",
    "happy with their Career (CareerSatisfaction in data frame)? What about Canada and USA specifically ? if there is a link between Career Satisfaction and some important parameters like: ProblemSolving, BuildingThings, LearningNewTech, JobSecurity and DiversityImportant ?\n",
    "### How US participants statistics varies from global (i.e. all data)?"
   ],
   "metadata": {
    "collapsed": false
   }
  },
  {
   "cell_type": "code",
   "execution_count": null,
   "outputs": [],
   "source": [
    "# Let's initialize the survey results againg and see what is the percentage of null values\n",
    "df=pd.read_csv('survey_results_public.csv')"
   ],
   "metadata": {
    "collapsed": false,
    "pycharm": {
     "name": "#%%\n"
    }
   }
  },
  {
   "cell_type": "code",
   "execution_count": null,
   "outputs": [],
   "source": [
    "df[\"CompTotal\"].isna().sum()/df[\"CompTotal\"].shape[0]"
   ],
   "metadata": {
    "collapsed": false,
    "pycharm": {
     "name": "#%%\n"
    }
   }
  },
  {
   "cell_type": "code",
   "execution_count": null,
   "outputs": [],
   "source": [
    "# It looks like there are plenty of them. Let's eliminate them."
   ],
   "metadata": {
    "collapsed": false,
    "pycharm": {
     "name": "#%%\n"
    }
   }
  },
  {
   "cell_type": "code",
   "execution_count": null,
   "outputs": [],
   "source": [
    "#drop null values in interested columns for this question\n",
    "df.dropna(subset=[\"CompTotal\", \"YearsCode\"],inplace=True)"
   ],
   "metadata": {
    "collapsed": false,
    "pycharm": {
     "name": "#%%\n"
    }
   }
  },
  {
   "cell_type": "code",
   "execution_count": null,
   "outputs": [],
   "source": [
    "#create new data frame and just include interested columns\n",
    "df1=df[[\"CompTotal\",\"YearsCode\"]]"
   ],
   "metadata": {
    "collapsed": false,
    "pycharm": {
     "name": "#%%\n"
    }
   }
  },
  {
   "cell_type": "code",
   "execution_count": null,
   "outputs": [],
   "source": [
    "#Check point\n",
    "df1.isnull().sum()"
   ],
   "metadata": {
    "collapsed": false,
    "pycharm": {
     "name": "#%%\n"
    }
   }
  },
  {
   "cell_type": "code",
   "execution_count": null,
   "outputs": [],
   "source": [
    "df1 = df1.sort_values(\"YearsCode\")\n",
    "df1 = df1[df1[\"YearsCode\"] != \"More than 50 years\"]"
   ],
   "metadata": {
    "collapsed": false,
    "pycharm": {
     "name": "#%%\n"
    }
   }
  },
  {
   "cell_type": "code",
   "execution_count": null,
   "outputs": [],
   "source": [
    "df1 = df1[df1[\"YearsCode\"] != \"Less than 1 year\"]"
   ],
   "metadata": {
    "collapsed": false,
    "pycharm": {
     "name": "#%%\n"
    }
   }
  },
  {
   "cell_type": "code",
   "execution_count": null,
   "outputs": [],
   "source": [
    "df1[\"YearsCode\"] = pd.to_numeric(df1[\"YearsCode\"])\n",
    "df1[\"CompTotal\"] = pd.to_numeric(df1[\"CompTotal\"])"
   ],
   "metadata": {
    "collapsed": false,
    "pycharm": {
     "name": "#%%\n"
    }
   }
  },
  {
   "cell_type": "code",
   "execution_count": null,
   "outputs": [],
   "source": [
    "# It is understood from the data that there are several outliers and this is eliminated using a top Compensation of 10000000\n",
    "df1 = df1[df1[\"CompTotal\"] < 10000000]"
   ],
   "metadata": {
    "collapsed": false,
    "pycharm": {
     "name": "#%%\n"
    }
   }
  },
  {
   "cell_type": "code",
   "execution_count": null,
   "outputs": [],
   "source": [
    "#Statistical information of all data set\n",
    "df1_count = df1.groupby(\"YearsCode\", as_index=False).count()"
   ],
   "metadata": {
    "collapsed": false,
    "pycharm": {
     "name": "#%%\n"
    }
   }
  },
  {
   "cell_type": "code",
   "execution_count": null,
   "outputs": [],
   "source": [
    "df1_count.head()"
   ],
   "metadata": {
    "collapsed": false,
    "pycharm": {
     "name": "#%%\n"
    }
   }
  },
  {
   "cell_type": "code",
   "execution_count": null,
   "outputs": [],
   "source": [
    "#bar chart of all data count\n",
    "chart=sns.catplot(x=\"YearsCode\", y=\"CompTotal\", palette=\"ch:.25\", data=df1_count)\n",
    "chart.set_xticklabels(rotation=45);"
   ],
   "metadata": {
    "collapsed": false,
    "pycharm": {
     "name": "#%%\n"
    }
   }
  },
  {
   "cell_type": "code",
   "execution_count": null,
   "outputs": [],
   "source": [
    "#Mean information of all data set\n",
    "df1_mean = df1.groupby(\"YearsCode\", as_index=False).mean()"
   ],
   "metadata": {
    "collapsed": false,
    "pycharm": {
     "name": "#%%\n"
    }
   }
  },
  {
   "cell_type": "code",
   "execution_count": null,
   "outputs": [],
   "source": [
    "#bar chart of mean\n",
    "\n",
    "chart=sns.catplot(x=\"YearsCode\", y=\"CompTotal\", palette=\"ch:.30\", data=df1_mean)\n",
    "chart.set_xticklabels(rotation=45);\n"
   ],
   "metadata": {
    "collapsed": false,
    "pycharm": {
     "name": "#%%\n"
    }
   }
  },
  {
   "cell_type": "markdown",
   "source": [
    "It looks like mean compensation drops after 15-17 years of working. This can be due to the technical expertise since there weren't many technologies if you are working for about 50 years. Also our data has more input points from 5-10 years of experienced people. This can be interpreted as older people dont like to participate or hang around on Stackoverflow."
   ],
   "metadata": {
    "collapsed": false
   }
  },
  {
   "cell_type": "markdown",
   "source": [
    "### Question 3: How \"Salary\" is related to coding starting?"
   ],
   "metadata": {
    "collapsed": false
   }
  },
  {
   "cell_type": "markdown",
   "source": [
    "During the lesson, the instructor tried to use Machine Learning to predict salary. For the last question of this project, I decided to find something similar to that, but instead of considering ALL categorical and ALL quantitative parameters that he considered in his analysis, I am going to focus on the following variables:\n",
    "- Race\n",
    "- Gender\n",
    "- Currency\n",
    "- HoursPerWeek\n",
    "- YearsProgram\n",
    "- YearsCodedJob\n",
    "\n",
    "My justification for doing that is to just get rid of *OverFitting* issue in comparison to the case of considering ALL data for my prediction.\n",
    "\n",
    "P.S: Initially I had plan to consider **Expected Salary** instead of Salary as dependent variable, but after initial investigations I found there are only few data in this data set which has Expected Salary value. So I switch my gear again and focus on Salary but with different variables.\n",
    "\n"
   ],
   "metadata": {
    "collapsed": false
   }
  },
  {
   "cell_type": "code",
   "execution_count": null,
   "outputs": [],
   "source": [
    "# Let's initialize the survey results againg and see what is the percentage of null values\n",
    "df=pd.read_csv('survey_results_public.csv')"
   ],
   "metadata": {
    "collapsed": false,
    "pycharm": {
     "name": "#%%\n"
    }
   }
  },
  {
   "cell_type": "code",
   "execution_count": null,
   "outputs": [],
   "source": [
    "#drop null values in interested columns for this question\n",
    "df.dropna(subset=[\"CompTotal\", \"Age1stCode\"],inplace=True)"
   ],
   "metadata": {
    "collapsed": false,
    "pycharm": {
     "name": "#%%\n"
    }
   }
  },
  {
   "cell_type": "code",
   "execution_count": null,
   "outputs": [],
   "source": [
    "df_compare = df[[\"CompTotal\",\"Age1stCode\"]]"
   ],
   "metadata": {
    "collapsed": false,
    "pycharm": {
     "name": "#%%\n"
    }
   }
  },
  {
   "cell_type": "code",
   "execution_count": null,
   "outputs": [],
   "source": [
    "df_compare = df_compare[df_compare[\"CompTotal\"] < 10000000]"
   ],
   "metadata": {
    "collapsed": false,
    "pycharm": {
     "name": "#%%\n"
    }
   }
  },
  {
   "cell_type": "code",
   "execution_count": null,
   "outputs": [],
   "source": [
    "df_compare.groupby(\"Age1stCode\").mean()"
   ],
   "metadata": {
    "collapsed": false,
    "pycharm": {
     "name": "#%%\n"
    }
   }
  },
  {
   "cell_type": "markdown",
   "source": [
    "It can be seen that 18-24 years group makes the most. Second group is older than 64 years. This may be due to the fact that they can be executives grown interest to coding."
   ],
   "metadata": {
    "collapsed": false
   }
  },
  {
   "cell_type": "code",
   "execution_count": null,
   "outputs": [],
   "source": [
    "#bar chart of mean\n",
    "\n",
    "chart=sns.catplot(x=\"Age1stCode\", y=\"CompTotal\", kind=\"bar\", palette=\"ch:.30\", data=df_compare.groupby(\"Age1stCode\", as_index=False).mean())\n",
    "chart.set_xticklabels(rotation=60);"
   ],
   "metadata": {
    "collapsed": false,
    "pycharm": {
     "name": "#%%\n"
    }
   }
  }
 ],
 "metadata": {
  "kernelspec": {
   "display_name": "Python 3 (ipykernel)",
   "language": "python",
   "name": "python3"
  },
  "language_info": {
   "codemirror_mode": {
    "name": "ipython",
    "version": 3
   },
   "file_extension": ".py",
   "mimetype": "text/x-python",
   "name": "python",
   "nbconvert_exporter": "python",
   "pygments_lexer": "ipython3",
   "version": "3.8.9"
  }
 },
 "nbformat": 4,
 "nbformat_minor": 4
}